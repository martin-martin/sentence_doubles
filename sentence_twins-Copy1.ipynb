{
 "cells": [
  {
   "cell_type": "markdown",
   "metadata": {},
   "source": [
    "# A proof for language creativity"
   ]
  },
  {
   "cell_type": "code",
   "execution_count": 4,
   "metadata": {
    "collapsed": true
   },
   "outputs": [],
   "source": [
    "####################### base material #######################\n",
    "\n",
    "import nltk\n",
    "from nltk.corpus import gutenberg as gb\n",
    "from pprint import pprint"
   ]
  },
  {
   "cell_type": "code",
   "execution_count": 37,
   "metadata": {
    "collapsed": false
   },
   "outputs": [],
   "source": [
    "####################### 3 functions #######################\n",
    "\n",
    "def get_rand_sentence(sent_tok_corpus):\n",
    "    \"\"\"grabs a random sentence from a tokenized corpus and transforms it into a string.\n",
    "    \n",
    "    >>>get_rand_sentence(nltk.corpus.gutenberg(fileids='shakespeare-macbeth.txt'))\n",
    "    'Shew his Eyes , and greeue his Hart , Come like shadowes , so depart .'\n",
    "    \n",
    "    :param sent_tok_corpus: text corpus that has been tokenized for sentences and words\n",
    "    :type sent_tok_corpus: NLTK ReadTextCorpus object (sent_tokenized)\n",
    "    :return: a random sentence from the input corpus\n",
    "    :rtype: string\n",
    "    \"\"\"\n",
    "    import re\n",
    "    from random import randint\n",
    "    \n",
    "    num_of_sents = len(sent_tok_corpus)\n",
    "    # introduce a check to avoid senseless macbeth outcries\n",
    "    rand_sent_words = []\n",
    "    while len(rand_sent_words) < 5:\n",
    "        rand_sent_i = randint(0, len(sent_tok_corpus))\n",
    "        rand_sent_words = sent_tok_corpus[rand_sent_i]\n",
    "        rand_sent = \" \".join(rand_sent_words)\n",
    "    return rand_sent\n",
    "\n",
    "def find_sentence_twins(corpus, sentence):\n",
    "    import re\n",
    "    pattern = re.compile(sentence)\n",
    "    matches = re.findall(pattern, corpus)\n",
    "    return matches\n",
    "\n",
    "def scan_corpora(list_of_corpora):\n",
    "    all_matches = {}\n",
    "    for c in list_of_corpora:\n",
    "        sent_tok_corpus = gb.sents(fileids=c)\n",
    "        full_corpus = \"\"\n",
    "        for sent in sent_tok_corpus:\n",
    "            sentence = \" \".join(sent)\n",
    "            full_corpus += sentence\n",
    "        rand_sent = get_rand_sentence(sent_tok_corpus)\n",
    "        corpus_matched = find_sentence_twins(full_corpus, rand_sent)\n",
    "        # number of doubles if there are any\n",
    "        doubles = len(corpus_matched) - 1\n",
    "        all_matches[c] = (corpus_matched, \"-**-DOUBLES-**-: {}\".format(doubles))\n",
    "    return all_matches"
   ]
  },
  {
   "cell_type": "code",
   "execution_count": 34,
   "metadata": {
    "collapsed": false
   },
   "outputs": [],
   "source": [
    "####################### calling it #######################\n",
    "\n",
    "# getting a list of all the corpora of Project Gutenberg\n",
    "# that come with NLTK\n",
    "corpora = gb.fileids()\n",
    "# calling the function wrapper on all corpora\n",
    "twins = scan_corpora(corpora)"
   ]
  },
  {
   "cell_type": "code",
   "execution_count": 36,
   "metadata": {
    "collapsed": false,
    "scrolled": true
   },
   "outputs": [
    {
     "name": "stdout",
     "output_type": "stream",
     "text": [
      "{'austen-emma.txt': (['I am always watching her to admire ; and I do pity her '\n",
      "                      'from my heart .\"'],\n",
      "                     '##_DOUBLES_##: 0'),\n",
      " 'austen-persuasion.txt': (['Anne had not wanted this visit to Uppercross , to '\n",
      "                            'learn that a removal from one set of people to '\n",
      "                            'another , though at a distance of only three '\n",
      "                            'miles , will often include a total change of '\n",
      "                            'conversation , opinion , and idea .'],\n",
      "                           '##_DOUBLES_##: 0'),\n",
      " 'austen-sense.txt': (['Elinor , who knew that such grief , shocking as it was '\n",
      "                       'to witness it , must have its course , watched by her '\n",
      "                       'till this excess of suffering had somewhat spent '\n",
      "                       \"itself , and then turning eagerly to Willoughby ' s \"\n",
      "                       'letter , read as follows :'],\n",
      "                      '##_DOUBLES_##: 0'),\n",
      " 'bible-kjv.txt': (['8 : 34 And the eunuch answered Philip , and said , I pray '\n",
      "                    'thee , of whom speaketh the prophet this '],\n",
      "                   '##_DOUBLES_##: 0'),\n",
      " 'blake-poems.txt': (['what dread grasp Dare its deadly terrors clasp '],\n",
      "                     '##_DOUBLES_##: 0'),\n",
      " 'bryant-stories.txt': (['The Dagda , with two or three of his warriors , had '\n",
      "                         'followed hard on their track .'],\n",
      "                        '##_DOUBLES_##: 0'),\n",
      " 'burgess-busterbrown.txt': (['\" Caw , caw caw !\"'], '##_DOUBLES_##: 0'),\n",
      " 'carroll-alice.txt': ([\"' I didn ' t !'\"], '##_DOUBLES_##: 0'),\n",
      " 'chesterton-ball.txt': (['If you are interested in contributing scanning '\n",
      "                          'equipment or software or other items , please '\n",
      "                          'contact Michael Hart at : hart @ pobox . com'],\n",
      "                         '##_DOUBLES_##: 0'),\n",
      " 'chesterton-brown.txt': (['That negro who has just swaggered out is one of '\n",
      "                           'the most dangerous men on earth , for he has the '\n",
      "                           'brains of a European , with the instincts of a '\n",
      "                           'cannibal .'],\n",
      "                          '##_DOUBLES_##: 0'),\n",
      " 'chesterton-thursday.txt': (['The doubts that were so plain to chase , so '\n",
      "                              'dreadful to withstand -- Oh , who shall '\n",
      "                              'understand but you ; yea , who shall '\n",
      "                              'understand '],\n",
      "                             '##_DOUBLES_##: 0'),\n",
      " 'edgeworth-parents.txt': (['\" IF ,\" said Loveit .'], '##_DOUBLES_##: 0'),\n",
      " 'melville-moby_dick.txt': (['never more to rise and blow .'],\n",
      "                            '##_DOUBLES_##: 0'),\n",
      " 'milton-paradise.txt': ([\"Nor did Israel scape Th ' infection , when their \"\n",
      "                          'borrowed gold composed The calf in Oreb ; and the '\n",
      "                          'rebel king Doubled that sin in Bethel and in Dan , '\n",
      "                          'Likening his Maker to the grazed ox -- Jehovah , '\n",
      "                          'who , in one night , when he passed From Egypt '\n",
      "                          'marching , equalled with one stroke Both her first '\n",
      "                          '- born and all her bleating gods .'],\n",
      "                         '##_DOUBLES_##: 0'),\n",
      " 'shakespeare-caesar.txt': (['You speake to Caska , and to such a man , That '\n",
      "                             'is no flearing Tell - tale .'],\n",
      "                            '##_DOUBLES_##: 0'),\n",
      " 'shakespeare-hamlet.txt': (['You neede not tell vs , what Lord Hamlet saide , '\n",
      "                             'We heard it all .'],\n",
      "                            '##_DOUBLES_##: 0'),\n",
      " 'shakespeare-macbeth.txt': (['Shew his Eyes , and greeue his Hart , Come like '\n",
      "                              'shadowes , so depart .'],\n",
      "                             '##_DOUBLES_##: 0'),\n",
      " 'whitman-leaves.txt': (['Less the reminders of properties told my words , And '\n",
      "                         'more the reminders they of life untold , and of '\n",
      "                         'freedom and extrication , And make short account of '\n",
      "                         'neuters and geldings , and favor men and women fully '\n",
      "                         'equipt , And beat the gong of revolt , and stop with '\n",
      "                         'fugitives and them that plot and conspire .'],\n",
      "                        '##_DOUBLES_##: 0')}\n"
     ]
    }
   ],
   "source": [
    "# here are the results\n",
    "pprint(twins)"
   ]
  },
  {
   "cell_type": "markdown",
   "metadata": {},
   "source": [
    "Usually they are always 0 - this is an interesting exception, that speaks of an author using a repetitive aspect of language in order to achieve a certain effect.\n",
    "\n",
    "\n",
    "```\n",
    " 'bryant-stories.txt': ('said the little Jackal .',\n",
    "                        ['said the little Jackal ,',\n",
    "                         'said the little Jackal .',\n",
    "                         'said the little Jackal .',\n",
    "                         'said the little Jackal ,',\n",
    "                         'said the little Jackal ,',\n",
    "                         'said the little Jackal .',\n",
    "                         'said the little Jackal .',\n",
    "                         'said the little Jackal .',\n",
    "                         'said the little Jackal .',\n",
    "                         'said the little Jackal .',\n",
    "                         'said the little Jackal ,',\n",
    "                         'said the little Jackal ,',\n",
    "                         'said the little Jackal .',\n",
    "                         'said the little Jackal ,',\n",
    "                         'said the little Jackal .',\n",
    "                         'said the little Jackal ;',\n",
    "                         'said the little Jackal ,',\n",
    "                         'said the little Jackal .'],\n",
    "                        '**DOUBLES**: 17'),\n",
    "```"
   ]
  },
  {
   "cell_type": "code",
   "execution_count": null,
   "metadata": {
    "collapsed": true
   },
   "outputs": [],
   "source": []
  }
 ],
 "metadata": {
  "anaconda-cloud": {},
  "kernelspec": {
   "display_name": "Python [conda env:car]",
   "language": "python",
   "name": "conda-env-car-py"
  },
  "language_info": {
   "codemirror_mode": {
    "name": "ipython",
    "version": 3
   },
   "file_extension": ".py",
   "mimetype": "text/x-python",
   "name": "python",
   "nbconvert_exporter": "python",
   "pygments_lexer": "ipython3",
   "version": "3.5.2"
  }
 },
 "nbformat": 4,
 "nbformat_minor": 1
}
