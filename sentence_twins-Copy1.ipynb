{
 "cells": [
  {
   "cell_type": "markdown",
   "metadata": {},
   "source": [
    "# A (pseudo-)proof for language creativity\n",
    "## The surprising rarity in which the exact same sentence is used more than once"
   ]
  },
  {
   "cell_type": "code",
   "execution_count": 2,
   "metadata": {
    "collapsed": true
   },
   "outputs": [],
   "source": [
    "####################### base material #######################\n",
    "\n",
    "import nltk\n",
    "from nltk.corpus import gutenberg as gb\n",
    "from pprint import pprint"
   ]
  },
  {
   "cell_type": "code",
   "execution_count": 17,
   "metadata": {
    "collapsed": false
   },
   "outputs": [],
   "source": [
    "####################### 3 functions #######################\n",
    "\n",
    "def get_rand_sentence(sent_tok_corpus):\n",
    "    \"\"\"grabs a random sentence from a tokenized corpus and transforms it into a string.\n",
    "    \n",
    "    >>>get_rand_sentence(nltk.corpus.gutenberg(fileids='shakespeare-macbeth.txt'))\n",
    "    'Shew his Eyes , and greeue his Hart , Come like shadowes , so depart .'\n",
    "    \n",
    "    :param sent_tok_corpus: text corpus that has been tokenized for sentences and words\n",
    "    :type sent_tok_corpus: NLTK ReadTextCorpus object (sent_tokenized)\n",
    "    :return: a random sentence from the input corpus\n",
    "    :rtype: string\n",
    "    \"\"\"\n",
    "    import re\n",
    "    from random import randint\n",
    "    \n",
    "    num_of_sents = len(sent_tok_corpus)\n",
    "    # introduce a check to avoid senseless macbeth outcries\n",
    "    rand_sent_words = []\n",
    "    while len(rand_sent_words) < 5:\n",
    "        rand_sent_i = randint(0, len(sent_tok_corpus))\n",
    "        rand_sent_words = sent_tok_corpus[rand_sent_i]\n",
    "        rand_sent = \" \".join(rand_sent_words)\n",
    "    return rand_sent\n",
    "\n",
    "def find_sentence_twins(corpus, sentence):\n",
    "    \"\"\"searches a corpus for occurances of a sentence.\"\"\"\n",
    "    import re\n",
    "    pattern = re.compile(sentence)\n",
    "    matches = re.findall(pattern, corpus)\n",
    "    return matches\n",
    "\n",
    "def scan_corpora(list_of_corpora):\n",
    "    \"\"\"wrapper function: scans a list of corpora for multiple occurances of a randomly selected sentence.\n",
    "    \n",
    "    :param list_of_corpora: the titles of the Gutenberg-project books included with NLTK\n",
    "    :type list_of_corpora: list of strings\n",
    "    :return: a dictionary containing the name of the corpus as key, and as value a tuple with a list of\n",
    "             the matches of the random sentence and a count of the doubles\n",
    "    :rtype: dictionary{string : tuple(list[string, string], string)}\n",
    "    \"\"\"\n",
    "    all_matches = {}\n",
    "    for c in list_of_corpora:\n",
    "        sent_tok_corpus = gb.sents(fileids=c)\n",
    "        full_corpus = \"\"\n",
    "        for sent in sent_tok_corpus:\n",
    "            sentence = \" \".join(sent)\n",
    "            full_corpus += sentence\n",
    "        rand_sent = get_rand_sentence(sent_tok_corpus)\n",
    "        corpus_matched = find_sentence_twins(full_corpus, rand_sent)\n",
    "        # number of doubles if there are any\n",
    "        doubles = len(corpus_matched) - 1\n",
    "        all_matches[c] = (corpus_matched, \"-**-DOUBLES-**-: {}\".format(doubles))\n",
    "    return all_matches"
   ]
  },
  {
   "cell_type": "code",
   "execution_count": 34,
   "metadata": {
    "collapsed": false
   },
   "outputs": [],
   "source": [
    "####################### calling it #######################\n",
    "\n",
    "# getting a list of all the corpora of Project Gutenberg\n",
    "# that come with NLTK\n",
    "corpora = gb.fileids()\n",
    "# calling the function wrapper on all corpora\n",
    "twins = scan_corpora(corpora)"
   ]
  },
  {
   "cell_type": "code",
   "execution_count": 36,
   "metadata": {
    "collapsed": false,
    "scrolled": true
   },
   "outputs": [
    {
     "name": "stdout",
     "output_type": "stream",
     "text": [
      "{'austen-emma.txt': (['I am always watching her to admire ; and I do pity her '\n",
      "                      'from my heart .\"'],\n",
      "                     '##_DOUBLES_##: 0'),\n",
      " 'austen-persuasion.txt': (['Anne had not wanted this visit to Uppercross , to '\n",
      "                            'learn that a removal from one set of people to '\n",
      "                            'another , though at a distance of only three '\n",
      "                            'miles , will often include a total change of '\n",
      "                            'conversation , opinion , and idea .'],\n",
      "                           '##_DOUBLES_##: 0'),\n",
      " 'austen-sense.txt': (['Elinor , who knew that such grief , shocking as it was '\n",
      "                       'to witness it , must have its course , watched by her '\n",
      "                       'till this excess of suffering had somewhat spent '\n",
      "                       \"itself , and then turning eagerly to Willoughby ' s \"\n",
      "                       'letter , read as follows :'],\n",
      "                      '##_DOUBLES_##: 0'),\n",
      " 'bible-kjv.txt': (['8 : 34 And the eunuch answered Philip , and said , I pray '\n",
      "                    'thee , of whom speaketh the prophet this '],\n",
      "                   '##_DOUBLES_##: 0'),\n",
      " 'blake-poems.txt': (['what dread grasp Dare its deadly terrors clasp '],\n",
      "                     '##_DOUBLES_##: 0'),\n",
      " 'bryant-stories.txt': (['The Dagda , with two or three of his warriors , had '\n",
      "                         'followed hard on their track .'],\n",
      "                        '##_DOUBLES_##: 0'),\n",
      " 'burgess-busterbrown.txt': (['\" Caw , caw caw !\"'], '##_DOUBLES_##: 0'),\n",
      " 'carroll-alice.txt': ([\"' I didn ' t !'\"], '##_DOUBLES_##: 0'),\n",
      " 'chesterton-ball.txt': (['If you are interested in contributing scanning '\n",
      "                          'equipment or software or other items , please '\n",
      "                          'contact Michael Hart at : hart @ pobox . com'],\n",
      "                         '##_DOUBLES_##: 0'),\n",
      " 'chesterton-brown.txt': (['That negro who has just swaggered out is one of '\n",
      "                           'the most dangerous men on earth , for he has the '\n",
      "                           'brains of a European , with the instincts of a '\n",
      "                           'cannibal .'],\n",
      "                          '##_DOUBLES_##: 0'),\n",
      " 'chesterton-thursday.txt': (['The doubts that were so plain to chase , so '\n",
      "                              'dreadful to withstand -- Oh , who shall '\n",
      "                              'understand but you ; yea , who shall '\n",
      "                              'understand '],\n",
      "                             '##_DOUBLES_##: 0'),\n",
      " 'edgeworth-parents.txt': (['\" IF ,\" said Loveit .'], '##_DOUBLES_##: 0'),\n",
      " 'melville-moby_dick.txt': (['never more to rise and blow .'],\n",
      "                            '##_DOUBLES_##: 0'),\n",
      " 'milton-paradise.txt': ([\"Nor did Israel scape Th ' infection , when their \"\n",
      "                          'borrowed gold composed The calf in Oreb ; and the '\n",
      "                          'rebel king Doubled that sin in Bethel and in Dan , '\n",
      "                          'Likening his Maker to the grazed ox -- Jehovah , '\n",
      "                          'who , in one night , when he passed From Egypt '\n",
      "                          'marching , equalled with one stroke Both her first '\n",
      "                          '- born and all her bleating gods .'],\n",
      "                         '##_DOUBLES_##: 0'),\n",
      " 'shakespeare-caesar.txt': (['You speake to Caska , and to such a man , That '\n",
      "                             'is no flearing Tell - tale .'],\n",
      "                            '##_DOUBLES_##: 0'),\n",
      " 'shakespeare-hamlet.txt': (['You neede not tell vs , what Lord Hamlet saide , '\n",
      "                             'We heard it all .'],\n",
      "                            '##_DOUBLES_##: 0'),\n",
      " 'shakespeare-macbeth.txt': (['Shew his Eyes , and greeue his Hart , Come like '\n",
      "                              'shadowes , so depart .'],\n",
      "                             '##_DOUBLES_##: 0'),\n",
      " 'whitman-leaves.txt': (['Less the reminders of properties told my words , And '\n",
      "                         'more the reminders they of life untold , and of '\n",
      "                         'freedom and extrication , And make short account of '\n",
      "                         'neuters and geldings , and favor men and women fully '\n",
      "                         'equipt , And beat the gong of revolt , and stop with '\n",
      "                         'fugitives and them that plot and conspire .'],\n",
      "                        '##_DOUBLES_##: 0')}\n"
     ]
    }
   ],
   "source": [
    "# here are the results\n",
    "pprint(twins)"
   ]
  },
  {
   "cell_type": "markdown",
   "metadata": {},
   "source": [
    "It becomes very obvious that, even if running the code multiple times, the `##_DOUBLES_##` count usually remains at 0. This means that the authors hardly ever use the same sentence twice in their work. A tiny victory for **language creativity**! 😁\n",
    "\n",
    "Would be interesting to further test this:\n",
    "- on a much larger corpus, \n",
    "- on non-literary texts,\n",
    "- on a spoken-word corpus\n",
    "\n",
    "and see whether there are differences, in that maybe other corpora would contain more double-sentences. Literature is, after all, not spoken language.\n",
    "\n",
    "### Side-note: Implications for plagiarism-detection\n",
    "\n",
    "The fact that multiple occurances of the exact same sentence seems to be **extremely rare** makes me also think about **plagiarism-detection** in e.g. diploma theses. If we really hardly ever create the same sentence twice, then checking for exact occrances is indeed a very hefty proof that someone might have plagiarised another text."
   ]
  },
  {
   "cell_type": "markdown",
   "metadata": {},
   "source": [
    "## Using repetition as a literary tool\n",
    "\n",
    "Usually they are always 0 - this is an interesting exception, that speaks of an author using a repetitive aspect of language in order to achieve a certain effect.\n",
    "\n",
    "\n",
    "```\n",
    " 'bryant-stories.txt': ('said the little Jackal .',\n",
    "                        ['said the little Jackal ,',\n",
    "                         'said the little Jackal .',\n",
    "                         'said the little Jackal .',\n",
    "                         'said the little Jackal ,',\n",
    "                         'said the little Jackal ,',\n",
    "                         'said the little Jackal .',\n",
    "                         'said the little Jackal .',\n",
    "                         'said the little Jackal .',\n",
    "                         'said the little Jackal .',\n",
    "                         'said the little Jackal .',\n",
    "                         'said the little Jackal ,',\n",
    "                         'said the little Jackal ,',\n",
    "                         'said the little Jackal .',\n",
    "                         'said the little Jackal ,',\n",
    "                         'said the little Jackal .',\n",
    "                         'said the little Jackal ;',\n",
    "                         'said the little Jackal ,',\n",
    "                         'said the little Jackal .'],\n",
    "                        '**DOUBLES**: 17'),\n",
    "```\n",
    "\n",
    "To take a fast look at the context this phrase appears so often, I'll print out the occurances with a window of 10 words left and right of it."
   ]
  },
  {
   "cell_type": "code",
   "execution_count": 8,
   "metadata": {
    "collapsed": false
   },
   "outputs": [],
   "source": [
    "bryant_words = gb.words(fileids=\"bryant-stories.txt\")"
   ]
  },
  {
   "cell_type": "code",
   "execution_count": 16,
   "metadata": {
    "collapsed": false
   },
   "outputs": [
    {
     "name": "stdout",
     "output_type": "stream",
     "text": [
      "it !\" \" Indeed , indeed , Father Lion ,\" said the little Jackal , \" I know that is what everybody thinks\n",
      ". \" He lives down there , Father Lion !\" said the little Jackal . \" He lives down there !\" The Lion\n",
      "free from a terrible cage ?\" \" Beg pardon ?\" said the little Jackal . \" I said ,\" said the Brahmin ,\n",
      "set him free from his cage ?\" \" Cage ?\" said the little Jackal , vacantly . \" Yes , yes , his\n",
      "your opinion . Do you think ----\" \" Oh ,\" said the little Jackal , \" you want my opinion ? Then may\n",
      "him free from his cage ?\" \" What cage ?\" said the little Jackal . \" Why , the cage he was in\n",
      "----\" \" But I don ' t altogether understand ,\" said the little Jackal . \" You ' set him free ,' you\n",
      ". \" That gives me no idea at all ,\" said the little Jackal . \" See here , my friends , if\n",
      ". \" Now , let us understand the situation ,\" said the little Jackal . \" Friend Brahmin , where were you ?\"\n",
      "Brahmin . \" Tiger , and where were you ?\" said the little Jackal . \" Why , in the cage , of\n",
      "Oh , I beg your pardon , Father Tiger ,\" said the little Jackal , \" I really am _so_ stupid ; I\n",
      ".\" \" Oh , thank you , thank you ,\" said the little Jackal , \" that makes it _much_ clearer ; but\n",
      ". \" Oh , I do beg your pardon ,\" said the little Jackal . \" I know I am very slow ;\n",
      "; but I don ' t see any lock ,\" said the little Jackal , \" does it lock on the outside ?\"\n",
      "door ! \" Oh , does it , indeed ?\" said the little Jackal . \" Does it , _indeed_ ! Well ,\n",
      "It is on the other side of the river ,\" said the little Jackal ; \" but we can manage it nicely ,\n",
      "\" Oh , I don ' t know _why_ \" said the little Jackal ,--\" I always sing after dinner !\" \" So\n",
      "said ,-- \" Oh , Jackal !\" \" Yes ,\" said the little Jackal . \" I have the strangest feeling ,\" said\n"
     ]
    }
   ],
   "source": [
    "# getting a window of 10 around the phrase of interest\n",
    "index = 0\n",
    "for w in bryant_words:\n",
    "    if w == \"Jackal\" and bryant_words[index-1] == \"little\" and bryant_words[index-3] == \"said\":\n",
    "        sent_window = \" \".join(bryant_words[index-13:index+10])\n",
    "        print(sent_window)\n",
    "    index += 1"
   ]
  }
 ],
 "metadata": {
  "anaconda-cloud": {},
  "kernelspec": {
   "display_name": "Python [conda env:car]",
   "language": "python",
   "name": "conda-env-car-py"
  },
  "language_info": {
   "codemirror_mode": {
    "name": "ipython",
    "version": 3
   },
   "file_extension": ".py",
   "mimetype": "text/x-python",
   "name": "python",
   "nbconvert_exporter": "python",
   "pygments_lexer": "ipython3",
   "version": "3.5.2"
  }
 },
 "nbformat": 4,
 "nbformat_minor": 1
}
